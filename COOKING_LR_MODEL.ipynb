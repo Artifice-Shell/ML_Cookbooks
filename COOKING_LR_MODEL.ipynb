{
  "nbformat": 4,
  "nbformat_minor": 0,
  "metadata": {
    "colab": {
      "name": "COOKING_LR_MODEL.ipynb",
      "provenance": [],
      "collapsed_sections": []
    },
    "kernelspec": {
      "name": "python3",
      "display_name": "Python 3"
    },
    "language_info": {
      "name": "python"
    }
  },
  "cells": [
    {
      "cell_type": "code",
      "metadata": {
        "id": "_9_yT1GKE3l_"
      },
      "source": [
        "%%capture\n",
        "# If you're in Colab...\n",
        "import sys\n",
        "if 'google.colab' in sys.modules:\n",
        "    !pip install category_encoders==2.*"
      ],
      "execution_count": 5,
      "outputs": []
    },
    {
      "cell_type": "code",
      "metadata": {
        "colab": {
          "base_uri": "https://localhost:8080/"
        },
        "id": "kie7lxuAFCye",
        "outputId": "fab3482b-3d1a-4f18-f6be-8a2d32b51027"
      },
      "source": [
        "#: Import data into DataFrame [df].\n",
        "import pandas as pd\n",
        "\n",
        "url_train = 'https://drive.google.com/uc?export=download&id=1tmYLQ1RwIgjI_d66PWnlXU-5D_VxtiQc'\n",
        "df = pd.read_csv(url_train)\n",
        "df = pd.read_csv(url_train, parse_dates=['Yr_Sold'], index_col='Yr_Sold')\n",
        "### END DATA IMPORT\n",
        "\n",
        "#Split single `df` into `X` and `y` [THE FEATURE MATRIX, AND THE TARGET... VECTOR?].\n",
        "\n",
        "target = 'SalePrice'\n",
        "\n",
        "y = df[target]\n",
        "X = df.drop(columns=target)\n",
        "### END SPLITTING\n",
        "\n",
        "#Now - Split the `X` and `y` already sply into training, validation, and testing sets - Split single `df` into `X` and `y` based on the Year column.\n",
        "\n",
        "mask = X.index.year  < 2009\n",
        "X_train, y_train = X.loc[mask], y.loc[mask]\n",
        "X_val, y_val = X.loc[~mask], y.loc[~mask]\n",
        "### END TRAINING/VALIDATION/TEST SPLIT\n",
        "\n",
        "### Calculate the baseline mean absolute error from the y_pred:\n",
        "\n",
        "from sklearn.metrics import mean_absolute_error\n",
        "\n",
        "#THIS IS ALSO WHERE THE y_pred is created: Look at other modules for different ways of doing this:\n",
        "y_pred = [y_train.mean()] * len(y_train)\n",
        "baseline_mae = mean_absolute_error(y_train, y_pred)\n",
        "### END creation of the (OPTIONAL): ##print('Baseline MAE:', baseline_mae)\n",
        "\n",
        "### MAKE A PIPELINE TO Build and train A LinearRegression model.\n",
        "from sklearn.pipeline import make_pipeline\n",
        "from sklearn.linear_model import LinearRegression\n",
        "from category_encoders import OneHotEncoder\n",
        "from sklearn.preprocessing import StandardScaler\n",
        "\n",
        "### BEGIN SOLUTION\n",
        "model_lr = make_pipeline(\n",
        "    OneHotEncoder(use_cat_names=True),\n",
        "    StandardScaler(), \n",
        "    LinearRegression()\n",
        ")\n",
        "\n",
        "model_lr.fit(X_train, y_train);\n",
        "### END SOLUTION - LINEAR REGRESSION MODEL IS ABOVE\n",
        "\n",
        "### Compare the TRAINING AND VALIDATION Model Metrics / MAE.\n",
        "### BEGIN SOLUTION\n",
        "model_lr_training_mae = mean_absolute_error(y_train, model_lr.predict(X_train))\n",
        "model_lr_validation_mae = mean_absolute_error(y_val, model_lr.predict(X_val))\n",
        "\n",
        "model_lr_r2_score = model_lr.score(X_val, y_val)\n",
        "###OPTIONAL TO print('Linear Regression R^2:', model_lr_r2_score)"
      ],
      "execution_count": 6,
      "outputs": [
        {
          "output_type": "stream",
          "text": [
            "/usr/local/lib/python3.7/dist-packages/statsmodels/tools/_testing.py:19: FutureWarning: pandas.util.testing is deprecated. Use the functions in the public API at pandas.testing instead.\n",
            "  import pandas.util.testing as tm\n",
            "/usr/local/lib/python3.7/dist-packages/category_encoders/utils.py:21: FutureWarning: is_categorical is deprecated and will be removed in a future version.  Use is_categorical_dtype instead\n",
            "  elif pd.api.types.is_categorical(cols):\n"
          ],
          "name": "stderr"
        }
      ]
    },
    {
      "cell_type": "code",
      "metadata": {
        "colab": {
          "base_uri": "https://localhost:8080/"
        },
        "id": "0gQRrrWDFR0k",
        "outputId": "dba28321-693b-410d-818a-6f05861d6b3e"
      },
      "source": [
        "###Task 10: Based on the metrics above, choose the best of your two models and generate an array of predictions y_pred using the test set below.\n",
        "###Note: Make sure that you import and clean the test set exactly the same way you did with the training set at the start of this notebook.\n",
        "\n",
        "url_test = 'https://drive.google.com/uc?export=download&id=1y9u8cOWprTjruw8E-ct1c7YaEytToqd_'\n",
        "X_test = pd.read_csv(url_test)\n",
        "\n",
        "X_test = pd.read_csv(url_test, parse_dates=['Yr_Sold'], index_col='Yr_Sold')\n",
        "y_pred = model_lr.predict(X_test)\n",
        "print('My predictions:', y_pred[:3])\n"
      ],
      "execution_count": 8,
      "outputs": [
        {
          "output_type": "stream",
          "text": [
            "My predictions: [217986.98278197 103921.98278197 159420.60778197]\n"
          ],
          "name": "stdout"
        }
      ]
    },
    {
      "cell_type": "code",
      "metadata": {
        "id": "_--tmXmKHung"
      },
      "source": [
        ""
      ],
      "execution_count": null,
      "outputs": []
    }
  ]
}