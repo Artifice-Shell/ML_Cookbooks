{
  "nbformat": 4,
  "nbformat_minor": 0,
  "metadata": {
    "colab": {
      "name": "COOKING_CV_&_SELECTK_AND_HYPERPARAMS_MODEL.ipynb",
      "provenance": [],
      "collapsed_sections": []
    },
    "kernelspec": {
      "name": "python3",
      "display_name": "Python 3"
    },
    "language_info": {
      "name": "python"
    }
  },
  "cells": [
    {
      "cell_type": "code",
      "metadata": {
        "id": "_9_yT1GKE3l_"
      },
      "source": [
        "%%capture\n",
        "# If you're in Colab...\n",
        "import sys\n",
        "if 'google.colab' in sys.modules:\n",
        "    !pip install category_encoders==2.*\n",
        "    !pip install pandas-profiling==2.*"
      ],
      "execution_count": 2,
      "outputs": []
    },
    {
      "cell_type": "code",
      "metadata": {
        "colab": {
          "base_uri": "https://localhost:8080/"
        },
        "id": "kie7lxuAFCye",
        "outputId": "78a6f42b-e57d-4748-9f6d-787fbba8ad2f"
      },
      "source": [
        "#: Import data into DataFrame [df].\n",
        "import pandas as pd\n",
        "import category_encoders as ce\n",
        "import numpy as np\n",
        "\n",
        "url_train = 'https://drive.google.com/uc?export=download&id=1tmYLQ1RwIgjI_d66PWnlXU-5D_VxtiQc'\n",
        "df = pd.read_csv(url_train)\n",
        "df = pd.read_csv(url_train, parse_dates=['Yr_Sold'], index_col='Yr_Sold')\n",
        "### END DATA IMPORT\n",
        "\n",
        "#Split single `df` into `X` and `y` [THE FEATURE MATRIX, AND THE TARGET... VECTOR?].\n",
        "\n",
        "target = 'SalePrice'\n",
        "\n",
        "y = df[target]\n",
        "X = df.drop(columns=target)\n",
        "### END SPLITTING\n",
        "\n",
        "#Now - Split the `X` and `y` already split into training, validation, and testing sets - Split single `df` into `X` and `y` based on the Year column.\n",
        "\n",
        "mask = X.index.year  < 2009\n",
        "X_train, y_train = X.loc[mask], y.loc[mask]\n",
        "X_val, y_val = X.loc[~mask], y.loc[~mask]\n",
        "### END TRAINING/VALIDATION/TEST SPLIT\n",
        "\n",
        "### Calculate the baseline mean absolute error from the y_pred:\n",
        "\n",
        "from sklearn.metrics import mean_absolute_error\n",
        "\n",
        "#THIS IS ALSO WHERE THE y_pred is created: Look at other modules for different ways of doing this:\n",
        "\n",
        "y_pred = [y_train.mean()] * len(y_train)\n",
        "baseline_mae = mean_absolute_error(y_train, y_pred)\n",
        "### END creation of the (OPTIONAL): ##print('Baseline MAE:', baseline_mae)\n",
        "\n",
        "\n",
        "### IMPORT THE PIECES NEEDED FOR MAKING A PIPELINE FOR THE: RANDOM FOREST\n",
        "\n",
        "from sklearn.pipeline import make_pipeline\n",
        "from sklearn.preprocessing import StandardScaler\n",
        "from sklearn.feature_selection import f_regression, SelectKBest\n",
        "from sklearn.impute import SimpleImputer\n",
        "from sklearn.linear_model import Ridge\n",
        "from sklearn.model_selection import cross_val_score\n",
        "from sklearn.pipeline import make_pipeline\n",
        "from sklearn.preprocessing import StandardScaler\n",
        "### PLUG THE MODEL TYPE IN HERE: RANDOM FOREST\n",
        "from sklearn.ensemble import RandomForestRegressor\n",
        "\n",
        "\n",
        "### MAKE A PIPELINE TO Build and train a: RANDOM FOREST model.\n",
        "model_rf = make_pipeline(\n",
        "    ce.TargetEncoder(min_samples_leaf=1, smoothing=1), \n",
        "    SimpleImputer(strategy='median'), \n",
        "    RandomForestRegressor(n_estimators=100, n_jobs=-1, random_state=42)\n",
        ")\n",
        "\n",
        "k = 3\n",
        "model_rf.fit(X_train, y_train);\n",
        "scores = cross_val_score(model_rf, X_train, y_train, cv=k, \n",
        "                         scoring='neg_mean_absolute_error')\n",
        "print(f'MAE for {k} folds:', -scores)\n",
        "\n",
        "### RANDOM FOREST MODEL IS ABOVE\n",
        "\n",
        "### Compare the TRAINING AND VALIDATION Model Metrics / MAE.\n",
        "###MAKE SURE TO CHANGE THE model_(xx)_ designations for the columns below:\n",
        "model_rf_training_mae = mean_absolute_error(y_train, model_rf.predict(X_train))\n",
        "model_rf_validation_mae = mean_absolute_error(y_val, model_rf.predict(X_val))\n",
        "model_rf_r2_score = model_rf.score(X_val, y_val)\n",
        "###OPTIONAL TO print('Random Forest R^2:', model_lr_r2_score)"
      ],
      "execution_count": 3,
      "outputs": [
        {
          "output_type": "stream",
          "text": [
            "/usr/local/lib/python3.7/dist-packages/statsmodels/tools/_testing.py:19: FutureWarning: pandas.util.testing is deprecated. Use the functions in the public API at pandas.testing instead.\n",
            "  import pandas.util.testing as tm\n",
            "/usr/local/lib/python3.7/dist-packages/category_encoders/utils.py:21: FutureWarning: is_categorical is deprecated and will be removed in a future version.  Use is_categorical_dtype instead\n",
            "  elif pd.api.types.is_categorical(cols):\n",
            "/usr/local/lib/python3.7/dist-packages/category_encoders/utils.py:21: FutureWarning: is_categorical is deprecated and will be removed in a future version.  Use is_categorical_dtype instead\n",
            "  elif pd.api.types.is_categorical(cols):\n",
            "/usr/local/lib/python3.7/dist-packages/category_encoders/utils.py:21: FutureWarning: is_categorical is deprecated and will be removed in a future version.  Use is_categorical_dtype instead\n",
            "  elif pd.api.types.is_categorical(cols):\n",
            "/usr/local/lib/python3.7/dist-packages/category_encoders/utils.py:21: FutureWarning: is_categorical is deprecated and will be removed in a future version.  Use is_categorical_dtype instead\n",
            "  elif pd.api.types.is_categorical(cols):\n"
          ],
          "name": "stderr"
        },
        {
          "output_type": "stream",
          "text": [
            "MAE for 3 folds: [17960.63652083 18018.35578125 16822.37426042]\n"
          ],
          "name": "stdout"
        }
      ]
    },
    {
      "cell_type": "code",
      "metadata": {
        "colab": {
          "base_uri": "https://localhost:8080/",
          "height": 69
        },
        "id": "0gQRrrWDFR0k",
        "outputId": "a3914c7e-ba0b-40b3-f3ad-21fc57ef1ce1"
      },
      "source": [
        "'''### GENERATE THE ARRAY OF PREDICTIONS = y_pred, for the test set below:\n",
        "###Note: THIS IS IMPORTED AND CLEANED IN THE SAME WAY AS THE TRAINING/VAL SET.\n",
        "\n",
        "url_test = 'https://drive.google.com/uc?export=download&id=1y9u8cOWprTjruw8E-ct1c7YaEytToqd_'\n",
        "X_test = pd.read_csv(url_test)\n",
        "\n",
        "X_test = pd.read_csv(url_test, parse_dates=['Yr_Sold'], index_col='Yr_Sold')\n",
        "y_pred = model_r.predict(X_test)\n",
        "print('My predictions:', y_pred[:3])'''\n"
      ],
      "execution_count": 4,
      "outputs": [
        {
          "output_type": "execute_result",
          "data": {
            "application/vnd.google.colaboratory.intrinsic+json": {
              "type": "string"
            },
            "text/plain": [
              "\"### GENERATE THE ARRAY OF PREDICTIONS = y_pred, for the test set below:\\n###Note: THIS IS IMPORTED AND CLEANED IN THE SAME WAY AS THE TRAINING/VAL SET.\\n\\nurl_test = 'https://drive.google.com/uc?export=download&id=1y9u8cOWprTjruw8E-ct1c7YaEytToqd_'\\nX_test = pd.read_csv(url_test)\\n\\nX_test = pd.read_csv(url_test, parse_dates=['Yr_Sold'], index_col='Yr_Sold')\\ny_pred = model_r.predict(X_test)\\nprint('My predictions:', y_pred[:3])\""
            ]
          },
          "metadata": {
            "tags": []
          },
          "execution_count": 4
        }
      ]
    },
    {
      "cell_type": "code",
      "metadata": {
        "id": "_--tmXmKHung"
      },
      "source": [
        ""
      ],
      "execution_count": 4,
      "outputs": []
    },
    {
      "cell_type": "code",
      "metadata": {
        "colab": {
          "base_uri": "https://localhost:8080/"
        },
        "id": "j6SThVNgiSip",
        "outputId": "2a6ee49a-226d-4ce5-f36b-403f1e71ff42"
      },
      "source": [
        "### THIS ONE IS DOING THE LINEAR MODEL SELECTKBEST\n",
        "from sklearn.feature_selection import f_regression, SelectKBest\n",
        "from sklearn.impute import SimpleImputer\n",
        "from sklearn.linear_model import Ridge\n",
        "from sklearn.model_selection import cross_val_score\n",
        "from sklearn.pipeline import make_pipeline\n",
        "from sklearn.preprocessing import StandardScaler\n",
        "\n",
        "#target = 'price'\n",
        "#high_cardinality = ['display_address', 'street_address', 'description']\n",
        "#features = df.columns.drop([target] + high_cardinality)\n",
        "#X_train = df[features]\n",
        "#y_train = df[target]\n",
        "\n",
        "model_RidgeSK = make_pipeline(\n",
        "    ce.OneHotEncoder(use_cat_names=True), \n",
        "    SimpleImputer(strategy='mean'), \n",
        "    StandardScaler(), \n",
        "    SelectKBest(f_regression, k=20), \n",
        "    Ridge(alpha=1.0)\n",
        ")\n",
        "\n",
        "k = 3\n",
        "scores = cross_val_score(model_RidgeSK, X_train, y_train, cv=k, \n",
        "                         scoring='neg_mean_absolute_error')\n",
        "print(f'MAE for {k} folds:', -scores)"
      ],
      "execution_count": 5,
      "outputs": [
        {
          "output_type": "stream",
          "text": [
            "/usr/local/lib/python3.7/dist-packages/category_encoders/utils.py:21: FutureWarning: is_categorical is deprecated and will be removed in a future version.  Use is_categorical_dtype instead\n",
            "  elif pd.api.types.is_categorical(cols):\n",
            "/usr/local/lib/python3.7/dist-packages/sklearn/feature_selection/_univariate_selection.py:299: RuntimeWarning: invalid value encountered in true_divide\n",
            "  corr /= X_norms\n",
            "/usr/local/lib/python3.7/dist-packages/category_encoders/utils.py:21: FutureWarning: is_categorical is deprecated and will be removed in a future version.  Use is_categorical_dtype instead\n",
            "  elif pd.api.types.is_categorical(cols):\n",
            "/usr/local/lib/python3.7/dist-packages/category_encoders/utils.py:21: FutureWarning: is_categorical is deprecated and will be removed in a future version.  Use is_categorical_dtype instead\n",
            "  elif pd.api.types.is_categorical(cols):\n"
          ],
          "name": "stderr"
        },
        {
          "output_type": "stream",
          "text": [
            "MAE for 3 folds: [21532.11232542 23243.73235574 23366.76390753]\n"
          ],
          "name": "stdout"
        }
      ]
    },
    {
      "cell_type": "code",
      "metadata": {
        "colab": {
          "base_uri": "https://localhost:8080/"
        },
        "id": "uUpwEZU7jPEK",
        "outputId": "a08232c4-c802-443b-b6dd-cf7e7bfdf767"
      },
      "source": [
        "from sklearn.model_selection import GridSearchCV, RandomizedSearchCV\n",
        "from scipy.stats import randint, uniform\n",
        "\n",
        "model_RandSearchCV = make_pipeline(\n",
        "    ce.TargetEncoder(), \n",
        "    SimpleImputer(), \n",
        "    RandomForestRegressor(random_state=42)\n",
        ")\n",
        "\n",
        "param_distributions = {\n",
        "    'targetencoder__min_samples_leaf': randint(1, 1000),     \n",
        "    'simpleimputer__strategy': ['mean', 'median'], \n",
        "    'randomforestregressor__n_estimators': randint(50, 500), \n",
        "    'randomforestregressor__max_depth': [5, 10, 15, 20, None], \n",
        "    'randomforestregressor__max_features': uniform(0, 1), \n",
        "}\n",
        "\n",
        "# If you're on Colab, decrease n_iter & cv parameters\n",
        "model_RandSearchCV = RandomizedSearchCV(\n",
        "    model_RandSearchCV, \n",
        "    param_distributions=param_distributions, \n",
        "    n_iter=5, \n",
        "    cv=3, \n",
        "    scoring='neg_mean_absolute_error', \n",
        "    verbose=10, \n",
        "    return_train_score=True, \n",
        "    n_jobs=-1\n",
        ")\n",
        "\n",
        "model_RandSearchCV.fit(X_train, y_train);\n",
        "\n",
        "print('Best hyperparameters', model_RandSearchCV.best_params_)\n",
        "print('Cross-validation MAE', -model_RandSearchCV.best_score_)"
      ],
      "execution_count": 6,
      "outputs": [
        {
          "output_type": "stream",
          "text": [
            "Fitting 3 folds for each of 5 candidates, totalling 15 fits\n"
          ],
          "name": "stdout"
        },
        {
          "output_type": "stream",
          "text": [
            "[Parallel(n_jobs=-1)]: Using backend LokyBackend with 2 concurrent workers.\n",
            "[Parallel(n_jobs=-1)]: Done   1 tasks      | elapsed:    2.8s\n",
            "[Parallel(n_jobs=-1)]: Done   4 tasks      | elapsed:    5.2s\n",
            "[Parallel(n_jobs=-1)]: Done   9 tasks      | elapsed:    9.7s\n",
            "[Parallel(n_jobs=-1)]: Done  15 out of  15 | elapsed:   14.4s finished\n",
            "/usr/local/lib/python3.7/dist-packages/category_encoders/utils.py:21: FutureWarning: is_categorical is deprecated and will be removed in a future version.  Use is_categorical_dtype instead\n",
            "  elif pd.api.types.is_categorical(cols):\n",
            "/usr/local/lib/python3.7/dist-packages/pandas/core/series.py:726: RuntimeWarning: overflow encountered in exp\n",
            "  result = getattr(ufunc, method)(*inputs, **kwargs)\n",
            "/usr/local/lib/python3.7/dist-packages/pandas/core/series.py:726: RuntimeWarning: overflow encountered in exp\n",
            "  result = getattr(ufunc, method)(*inputs, **kwargs)\n",
            "/usr/local/lib/python3.7/dist-packages/pandas/core/series.py:726: RuntimeWarning: overflow encountered in exp\n",
            "  result = getattr(ufunc, method)(*inputs, **kwargs)\n",
            "/usr/local/lib/python3.7/dist-packages/pandas/core/series.py:726: RuntimeWarning: overflow encountered in exp\n",
            "  result = getattr(ufunc, method)(*inputs, **kwargs)\n",
            "/usr/local/lib/python3.7/dist-packages/pandas/core/series.py:726: RuntimeWarning: overflow encountered in exp\n",
            "  result = getattr(ufunc, method)(*inputs, **kwargs)\n",
            "/usr/local/lib/python3.7/dist-packages/pandas/core/series.py:726: RuntimeWarning: overflow encountered in exp\n",
            "  result = getattr(ufunc, method)(*inputs, **kwargs)\n",
            "/usr/local/lib/python3.7/dist-packages/pandas/core/series.py:726: RuntimeWarning: overflow encountered in exp\n",
            "  result = getattr(ufunc, method)(*inputs, **kwargs)\n",
            "/usr/local/lib/python3.7/dist-packages/pandas/core/series.py:726: RuntimeWarning: overflow encountered in exp\n",
            "  result = getattr(ufunc, method)(*inputs, **kwargs)\n",
            "/usr/local/lib/python3.7/dist-packages/pandas/core/series.py:726: RuntimeWarning: overflow encountered in exp\n",
            "  result = getattr(ufunc, method)(*inputs, **kwargs)\n",
            "/usr/local/lib/python3.7/dist-packages/pandas/core/series.py:726: RuntimeWarning: overflow encountered in exp\n",
            "  result = getattr(ufunc, method)(*inputs, **kwargs)\n",
            "/usr/local/lib/python3.7/dist-packages/pandas/core/series.py:726: RuntimeWarning: overflow encountered in exp\n",
            "  result = getattr(ufunc, method)(*inputs, **kwargs)\n",
            "/usr/local/lib/python3.7/dist-packages/pandas/core/series.py:726: RuntimeWarning: overflow encountered in exp\n",
            "  result = getattr(ufunc, method)(*inputs, **kwargs)\n",
            "/usr/local/lib/python3.7/dist-packages/pandas/core/series.py:726: RuntimeWarning: overflow encountered in exp\n",
            "  result = getattr(ufunc, method)(*inputs, **kwargs)\n",
            "/usr/local/lib/python3.7/dist-packages/pandas/core/series.py:726: RuntimeWarning: overflow encountered in exp\n",
            "  result = getattr(ufunc, method)(*inputs, **kwargs)\n",
            "/usr/local/lib/python3.7/dist-packages/pandas/core/series.py:726: RuntimeWarning: overflow encountered in exp\n",
            "  result = getattr(ufunc, method)(*inputs, **kwargs)\n",
            "/usr/local/lib/python3.7/dist-packages/pandas/core/series.py:726: RuntimeWarning: overflow encountered in exp\n",
            "  result = getattr(ufunc, method)(*inputs, **kwargs)\n",
            "/usr/local/lib/python3.7/dist-packages/pandas/core/series.py:726: RuntimeWarning: overflow encountered in exp\n",
            "  result = getattr(ufunc, method)(*inputs, **kwargs)\n",
            "/usr/local/lib/python3.7/dist-packages/pandas/core/series.py:726: RuntimeWarning: overflow encountered in exp\n",
            "  result = getattr(ufunc, method)(*inputs, **kwargs)\n",
            "/usr/local/lib/python3.7/dist-packages/pandas/core/series.py:726: RuntimeWarning: overflow encountered in exp\n",
            "  result = getattr(ufunc, method)(*inputs, **kwargs)\n",
            "/usr/local/lib/python3.7/dist-packages/pandas/core/series.py:726: RuntimeWarning: overflow encountered in exp\n",
            "  result = getattr(ufunc, method)(*inputs, **kwargs)\n",
            "/usr/local/lib/python3.7/dist-packages/pandas/core/series.py:726: RuntimeWarning: overflow encountered in exp\n",
            "  result = getattr(ufunc, method)(*inputs, **kwargs)\n",
            "/usr/local/lib/python3.7/dist-packages/pandas/core/series.py:726: RuntimeWarning: overflow encountered in exp\n",
            "  result = getattr(ufunc, method)(*inputs, **kwargs)\n",
            "/usr/local/lib/python3.7/dist-packages/pandas/core/series.py:726: RuntimeWarning: overflow encountered in exp\n",
            "  result = getattr(ufunc, method)(*inputs, **kwargs)\n",
            "/usr/local/lib/python3.7/dist-packages/pandas/core/series.py:726: RuntimeWarning: overflow encountered in exp\n",
            "  result = getattr(ufunc, method)(*inputs, **kwargs)\n",
            "/usr/local/lib/python3.7/dist-packages/pandas/core/series.py:726: RuntimeWarning: overflow encountered in exp\n",
            "  result = getattr(ufunc, method)(*inputs, **kwargs)\n",
            "/usr/local/lib/python3.7/dist-packages/pandas/core/series.py:726: RuntimeWarning: overflow encountered in exp\n",
            "  result = getattr(ufunc, method)(*inputs, **kwargs)\n",
            "/usr/local/lib/python3.7/dist-packages/pandas/core/series.py:726: RuntimeWarning: overflow encountered in exp\n",
            "  result = getattr(ufunc, method)(*inputs, **kwargs)\n",
            "/usr/local/lib/python3.7/dist-packages/pandas/core/series.py:726: RuntimeWarning: overflow encountered in exp\n",
            "  result = getattr(ufunc, method)(*inputs, **kwargs)\n",
            "/usr/local/lib/python3.7/dist-packages/pandas/core/series.py:726: RuntimeWarning: overflow encountered in exp\n",
            "  result = getattr(ufunc, method)(*inputs, **kwargs)\n"
          ],
          "name": "stderr"
        },
        {
          "output_type": "stream",
          "text": [
            "Best hyperparameters {'randomforestregressor__max_depth': 20, 'randomforestregressor__max_features': 0.4020548553406059, 'randomforestregressor__n_estimators': 112, 'simpleimputer__strategy': 'mean', 'targetencoder__min_samples_leaf': 846}\n",
            "Cross-validation MAE 17242.82014298542\n"
          ],
          "name": "stdout"
        }
      ]
    },
    {
      "cell_type": "code",
      "metadata": {
        "colab": {
          "base_uri": "https://localhost:8080/",
          "height": 737
        },
        "id": "ZwxIT3wH7_nL",
        "outputId": "1ab02736-e8c1-4474-fd59-07344d1e49fd"
      },
      "source": [
        "##THIS IS THE DF DETAIL FROM ABOVE, IN A SEPARATE WINDOW FOR NO REASON... DON'T JUDGE ME.\n",
        "##NOTE THE MODEL NAME: model_RandSearchCV\n",
        "pd.DataFrame(model_RandSearchCV.cv_results_).sort_values(by='rank_test_score').T"
      ],
      "execution_count": 7,
      "outputs": [
        {
          "output_type": "execute_result",
          "data": {
            "text/html": [
              "<div>\n",
              "<style scoped>\n",
              "    .dataframe tbody tr th:only-of-type {\n",
              "        vertical-align: middle;\n",
              "    }\n",
              "\n",
              "    .dataframe tbody tr th {\n",
              "        vertical-align: top;\n",
              "    }\n",
              "\n",
              "    .dataframe thead th {\n",
              "        text-align: right;\n",
              "    }\n",
              "</style>\n",
              "<table border=\"1\" class=\"dataframe\">\n",
              "  <thead>\n",
              "    <tr style=\"text-align: right;\">\n",
              "      <th></th>\n",
              "      <th>3</th>\n",
              "      <th>1</th>\n",
              "      <th>4</th>\n",
              "      <th>2</th>\n",
              "      <th>0</th>\n",
              "    </tr>\n",
              "  </thead>\n",
              "  <tbody>\n",
              "    <tr>\n",
              "      <th>mean_fit_time</th>\n",
              "      <td>1.43686</td>\n",
              "      <td>1.87137</td>\n",
              "      <td>1.34544</td>\n",
              "      <td>1.07252</td>\n",
              "      <td>2.11628</td>\n",
              "    </tr>\n",
              "    <tr>\n",
              "      <th>std_fit_time</th>\n",
              "      <td>0.00676376</td>\n",
              "      <td>0.0311893</td>\n",
              "      <td>0.135633</td>\n",
              "      <td>0.00758038</td>\n",
              "      <td>0.0137998</td>\n",
              "    </tr>\n",
              "    <tr>\n",
              "      <th>mean_score_time</th>\n",
              "      <td>0.10173</td>\n",
              "      <td>0.101783</td>\n",
              "      <td>0.0927036</td>\n",
              "      <td>0.0970275</td>\n",
              "      <td>0.130503</td>\n",
              "    </tr>\n",
              "    <tr>\n",
              "      <th>std_score_time</th>\n",
              "      <td>0.0033001</td>\n",
              "      <td>0.00821727</td>\n",
              "      <td>0.0205289</td>\n",
              "      <td>0.0104966</td>\n",
              "      <td>0.00309506</td>\n",
              "    </tr>\n",
              "    <tr>\n",
              "      <th>param_randomforestregressor__max_depth</th>\n",
              "      <td>20</td>\n",
              "      <td>15</td>\n",
              "      <td>None</td>\n",
              "      <td>15</td>\n",
              "      <td>5</td>\n",
              "    </tr>\n",
              "    <tr>\n",
              "      <th>param_randomforestregressor__max_features</th>\n",
              "      <td>0.402055</td>\n",
              "      <td>0.586546</td>\n",
              "      <td>0.268948</td>\n",
              "      <td>0.171622</td>\n",
              "      <td>0.413314</td>\n",
              "    </tr>\n",
              "    <tr>\n",
              "      <th>param_randomforestregressor__n_estimators</th>\n",
              "      <td>112</td>\n",
              "      <td>124</td>\n",
              "      <td>138</td>\n",
              "      <td>96</td>\n",
              "      <td>373</td>\n",
              "    </tr>\n",
              "    <tr>\n",
              "      <th>param_simpleimputer__strategy</th>\n",
              "      <td>mean</td>\n",
              "      <td>mean</td>\n",
              "      <td>mean</td>\n",
              "      <td>median</td>\n",
              "      <td>mean</td>\n",
              "    </tr>\n",
              "    <tr>\n",
              "      <th>param_targetencoder__min_samples_leaf</th>\n",
              "      <td>846</td>\n",
              "      <td>301</td>\n",
              "      <td>450</td>\n",
              "      <td>268</td>\n",
              "      <td>268</td>\n",
              "    </tr>\n",
              "    <tr>\n",
              "      <th>params</th>\n",
              "      <td>{'randomforestregressor__max_depth': 20, 'rand...</td>\n",
              "      <td>{'randomforestregressor__max_depth': 15, 'rand...</td>\n",
              "      <td>{'randomforestregressor__max_depth': None, 'ra...</td>\n",
              "      <td>{'randomforestregressor__max_depth': 15, 'rand...</td>\n",
              "      <td>{'randomforestregressor__max_depth': 5, 'rando...</td>\n",
              "    </tr>\n",
              "    <tr>\n",
              "      <th>split0_test_score</th>\n",
              "      <td>-17133.7</td>\n",
              "      <td>-17470.5</td>\n",
              "      <td>-16886.3</td>\n",
              "      <td>-17226.6</td>\n",
              "      <td>-20093.5</td>\n",
              "    </tr>\n",
              "    <tr>\n",
              "      <th>split1_test_score</th>\n",
              "      <td>-17776.1</td>\n",
              "      <td>-17855</td>\n",
              "      <td>-17767.3</td>\n",
              "      <td>-18840.3</td>\n",
              "      <td>-20305.8</td>\n",
              "    </tr>\n",
              "    <tr>\n",
              "      <th>split2_test_score</th>\n",
              "      <td>-16818.7</td>\n",
              "      <td>-16602.5</td>\n",
              "      <td>-17372.3</td>\n",
              "      <td>-17441.1</td>\n",
              "      <td>-20634.8</td>\n",
              "    </tr>\n",
              "    <tr>\n",
              "      <th>mean_test_score</th>\n",
              "      <td>-17242.8</td>\n",
              "      <td>-17309.3</td>\n",
              "      <td>-17342</td>\n",
              "      <td>-17836</td>\n",
              "      <td>-20344.7</td>\n",
              "    </tr>\n",
              "    <tr>\n",
              "      <th>std_test_score</th>\n",
              "      <td>398.396</td>\n",
              "      <td>523.891</td>\n",
              "      <td>360.283</td>\n",
              "      <td>715.506</td>\n",
              "      <td>222.676</td>\n",
              "    </tr>\n",
              "    <tr>\n",
              "      <th>rank_test_score</th>\n",
              "      <td>1</td>\n",
              "      <td>2</td>\n",
              "      <td>3</td>\n",
              "      <td>4</td>\n",
              "      <td>5</td>\n",
              "    </tr>\n",
              "    <tr>\n",
              "      <th>split0_train_score</th>\n",
              "      <td>-6382.96</td>\n",
              "      <td>-6726.46</td>\n",
              "      <td>-6391.17</td>\n",
              "      <td>-7105.31</td>\n",
              "      <td>-17319.5</td>\n",
              "    </tr>\n",
              "    <tr>\n",
              "      <th>split1_train_score</th>\n",
              "      <td>-6125.66</td>\n",
              "      <td>-6330.2</td>\n",
              "      <td>-6120.12</td>\n",
              "      <td>-6646.04</td>\n",
              "      <td>-16503.6</td>\n",
              "    </tr>\n",
              "    <tr>\n",
              "      <th>split2_train_score</th>\n",
              "      <td>-6537.79</td>\n",
              "      <td>-6746.16</td>\n",
              "      <td>-6718.96</td>\n",
              "      <td>-7048.33</td>\n",
              "      <td>-17575.8</td>\n",
              "    </tr>\n",
              "    <tr>\n",
              "      <th>mean_train_score</th>\n",
              "      <td>-6348.8</td>\n",
              "      <td>-6600.94</td>\n",
              "      <td>-6410.08</td>\n",
              "      <td>-6933.23</td>\n",
              "      <td>-17133</td>\n",
              "    </tr>\n",
              "    <tr>\n",
              "      <th>std_train_score</th>\n",
              "      <td>169.975</td>\n",
              "      <td>191.613</td>\n",
              "      <td>244.839</td>\n",
              "      <td>204.397</td>\n",
              "      <td>457.152</td>\n",
              "    </tr>\n",
              "  </tbody>\n",
              "</table>\n",
              "</div>"
            ],
            "text/plain": [
              "                                                                                           3  ...                                                  0\n",
              "mean_fit_time                                                                        1.43686  ...                                            2.11628\n",
              "std_fit_time                                                                      0.00676376  ...                                          0.0137998\n",
              "mean_score_time                                                                      0.10173  ...                                           0.130503\n",
              "std_score_time                                                                     0.0033001  ...                                         0.00309506\n",
              "param_randomforestregressor__max_depth                                                    20  ...                                                  5\n",
              "param_randomforestregressor__max_features                                           0.402055  ...                                           0.413314\n",
              "param_randomforestregressor__n_estimators                                                112  ...                                                373\n",
              "param_simpleimputer__strategy                                                           mean  ...                                               mean\n",
              "param_targetencoder__min_samples_leaf                                                    846  ...                                                268\n",
              "params                                     {'randomforestregressor__max_depth': 20, 'rand...  ...  {'randomforestregressor__max_depth': 5, 'rando...\n",
              "split0_test_score                                                                   -17133.7  ...                                           -20093.5\n",
              "split1_test_score                                                                   -17776.1  ...                                           -20305.8\n",
              "split2_test_score                                                                   -16818.7  ...                                           -20634.8\n",
              "mean_test_score                                                                     -17242.8  ...                                           -20344.7\n",
              "std_test_score                                                                       398.396  ...                                            222.676\n",
              "rank_test_score                                                                            1  ...                                                  5\n",
              "split0_train_score                                                                  -6382.96  ...                                           -17319.5\n",
              "split1_train_score                                                                  -6125.66  ...                                           -16503.6\n",
              "split2_train_score                                                                  -6537.79  ...                                           -17575.8\n",
              "mean_train_score                                                                     -6348.8  ...                                             -17133\n",
              "std_train_score                                                                      169.975  ...                                            457.152\n",
              "\n",
              "[21 rows x 5 columns]"
            ]
          },
          "metadata": {
            "tags": []
          },
          "execution_count": 7
        }
      ]
    },
    {
      "cell_type": "code",
      "metadata": {
        "colab": {
          "base_uri": "https://localhost:8080/",
          "height": 595
        },
        "id": "aBPtsdULpruU",
        "outputId": "22a519e4-cb60-49ed-8715-2eb1b065705f"
      },
      "source": [
        "%matplotlib inline\n",
        "import matplotlib.pyplot as plt\n",
        "from sklearn.model_selection import validation_curve\n",
        "from sklearn.tree import DecisionTreeRegressor\n",
        "\n",
        "pipeline = make_pipeline(\n",
        "    ce.OrdinalEncoder(), \n",
        "    SimpleImputer(), \n",
        "    DecisionTreeRegressor()\n",
        ")\n",
        "\n",
        "depth = range(1, 30, 3)\n",
        "train_scores, val_scores = validation_curve(\n",
        "    pipeline, X_train, y_train,\n",
        "    param_name='decisiontreeregressor__max_depth', \n",
        "    param_range=depth, scoring='neg_mean_absolute_error', \n",
        "    cv=3,\n",
        "    n_jobs=-1\n",
        ")\n",
        "\n",
        "plt.figure(dpi=150)\n",
        "plt.plot(depth, np.mean(-train_scores, axis=1), color='blue', label='training error')\n",
        "plt.plot(depth, np.mean(-val_scores, axis=1), color='red', label='validation error')\n",
        "plt.title('Validation Curve')\n",
        "plt.xlabel('model complexity: DecisionTreeRegressor max_depth')\n",
        "plt.ylabel('model score: Mean Absolute Error')\n",
        "plt.legend();"
      ],
      "execution_count": 8,
      "outputs": [
        {
          "output_type": "display_data",
          "data": {
            "image/png": "[encoded data removed]",
            "text/plain": [
              "<Figure size 900x600 with 1 Axes>"
            ]
          },
          "metadata": {
            "tags": [],
            "needs_background": "light"
          }
        }
      ]
    }
  ]
}