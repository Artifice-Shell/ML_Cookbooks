{
  "nbformat": 4,
  "nbformat_minor": 0,
  "metadata": {
    "colab": {
      "name": "COOKING_LOGREG_MODEL.ipynb",
      "provenance": [],
      "collapsed_sections": []
    },
    "kernelspec": {
      "name": "python3",
      "display_name": "Python 3"
    },
    "language_info": {
      "name": "python"
    }
  },
  "cells": [
    {
      "cell_type": "code",
      "metadata": {
        "id": "_9_yT1GKE3l_"
      },
      "source": [
        "%%capture\n",
        "# If you're in Colab...\n",
        "import sys\n",
        "if 'google.colab' in sys.modules:\n",
        "    !pip install category_encoders==2.*"
      ],
      "execution_count": null,
      "outputs": []
    },
    {
      "cell_type": "code",
      "metadata": {
        "colab": {
          "base_uri": "https://localhost:8080/"
        },
        "id": "kie7lxuAFCye",
        "outputId": "9390df6e-66db-48e9-baf4-a90d41850c8f"
      },
      "source": [
        "#: Import data into DataFrame [df].\n",
        "import pandas as pd\n",
        "\n",
        "url_train = 'https://drive.google.com/uc?export=download&id=1tmYLQ1RwIgjI_d66PWnlXU-5D_VxtiQc'\n",
        "df = pd.read_csv(url_train)\n",
        "df = pd.read_csv(url_train, parse_dates=['Yr_Sold'], index_col='Yr_Sold')\n",
        "### END DATA IMPORT\n",
        "\n",
        "#Split single `df` into `X` and `y` [THE FEATURE MATRIX, AND THE TARGET... VECTOR?].\n",
        "\n",
        "target = 'SalePrice'\n",
        "\n",
        "y = df[target]\n",
        "X = df.drop(columns=target)\n",
        "### END SPLITTING\n",
        "\n",
        "#Now - Split the `X` and `y` already sply into training, validation, and testing sets - Split single `df` into `X` and `y` based on the Year column.\n",
        "\n",
        "mask = X.index.year  < 2009\n",
        "X_train, y_train = X.loc[mask], y.loc[mask]\n",
        "X_val, y_val = X.loc[~mask], y.loc[~mask]\n",
        "### END TRAINING/VALIDATION/TEST SPLIT\n",
        "\n",
        "### Calculate the baseline mean absolute error from the y_pred:\n",
        "\n",
        "from sklearn.metrics import mean_absolute_error\n",
        "\n",
        "#THIS IS ALSO WHERE THE y_pred is created: Look at other modules for different ways of doing this:\n",
        "y_pred = [y_train.mean()] * len(y_train)\n",
        "baseline_mae = mean_absolute_error(y_train, y_pred)\n",
        "### END creation of the (OPTIONAL): ##print('Baseline MAE:', baseline_mae)\n",
        "\n",
        "\n",
        "### IMPORT THE PIECES NEEDED FOR MAKING A PIPELINE FOR THE RIDGE REGRESSION\n",
        "from sklearn.pipeline import make_pipeline\n",
        "from category_encoders import OneHotEncoder\n",
        "from sklearn.preprocessing import StandardScaler\n",
        "from sklearn.linear_model import Ridge\n",
        "\n",
        "### MAKE A PIPELINE TO Build and train A RIDGE Regression model.\n",
        "model_r = make_pipeline(\n",
        "    OneHotEncoder(use_cat_names=True),\n",
        "    StandardScaler(), \n",
        "    Ridge(alpha=20, normalize=False)\n",
        ")\n",
        "model_r.fit(X_train, y_train);\n",
        "### RIDGE REGRESSION MODEL IS ABOVE\n",
        "\n",
        "### Compare the TRAINING AND VALIDATION Model Metrics / MAE.\n",
        "\n",
        "model_r_training_mae = mean_absolute_error(y_train, model_r.predict(X_train))\n",
        "model_r_validation_mae = mean_absolute_error(y_val, model_r.predict(X_val))\n",
        "\n",
        "model_r_r2_score = model_r.score(X_val, y_val)\n",
        "###OPTIONAL TO print('Linear Regression R^2:', model_lr_r2_score)"
      ],
      "execution_count": null,
      "outputs": [
        {
          "output_type": "stream",
          "text": [
            "/usr/local/lib/python3.7/dist-packages/category_encoders/utils.py:21: FutureWarning: is_categorical is deprecated and will be removed in a future version.  Use is_categorical_dtype instead\n",
            "  elif pd.api.types.is_categorical(cols):\n"
          ],
          "name": "stderr"
        }
      ]
    },
    {
      "cell_type": "code",
      "metadata": {
        "colab": {
          "base_uri": "https://localhost:8080/"
        },
        "id": "0gQRrrWDFR0k",
        "outputId": "c605a042-dfb6-49c9-eebc-08cf29657658"
      },
      "source": [
        "### GENERATE THE ARRAY OF PREDICTIONS = y_pred, for the test set below:\n",
        "###Note: THIS IS IMPORTED AND CLEANED IN THE SAME WAY AS THE TRAINING/VAL SET.\n",
        "\n",
        "url_test = 'https://drive.google.com/uc?export=download&id=1y9u8cOWprTjruw8E-ct1c7YaEytToqd_'\n",
        "X_test = pd.read_csv(url_test)\n",
        "\n",
        "X_test = pd.read_csv(url_test, parse_dates=['Yr_Sold'], index_col='Yr_Sold')\n",
        "y_pred = model_r.predict(X_test)\n",
        "print('My predictions:', y_pred[:3])\n"
      ],
      "execution_count": null,
      "outputs": [
        {
          "output_type": "stream",
          "text": [
            "My predictions: [218292.71589794 104381.71343037 160457.53751543]\n"
          ],
          "name": "stdout"
        }
      ]
    },
    {
      "cell_type": "code",
      "metadata": {
        "id": "_--tmXmKHung"
      },
      "source": [
        ""
      ],
      "execution_count": null,
      "outputs": []
    }
  ]
}